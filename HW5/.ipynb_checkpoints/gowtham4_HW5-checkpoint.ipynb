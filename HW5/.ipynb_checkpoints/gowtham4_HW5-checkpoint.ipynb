{
 "cells": [
  {
   "cell_type": "code",
   "execution_count": 1,
   "metadata": {},
   "outputs": [],
   "source": [
    "\"\"\"\n",
    "Dataset: -\n",
    "\n",
    "HTRU2 is a data set which describes a sample of \n",
    "pulsar candidates collected during the High Time Resolution Universe Survey \n",
    "\n",
    "Source:- \n",
    "\n",
    "https://archive.ics.uci.edu/ml/datasets/HTRU2\n",
    "\n",
    "Columns:\n",
    "\n",
    "1. Mean of the integrated profile.\n",
    "2. Standard deviation of the integrated profile.\n",
    "3. Excess kurtosis of the integrated profile.\n",
    "4. Skewness of the integrated profile.\n",
    "5. Mean of the DM-SNR curve.\n",
    "6. Standard deviation of the DM-SNR curve.\n",
    "7. Excess kurtosis of the DM-SNR curve.\n",
    "8. Skewness of the DM-SNR curve.\n",
    "9. Class\n",
    "\n",
    "\"\"\"\n",
    "\n",
    "import pandas as pd\n",
    "import numpy as np\n",
    "import matplotlib.pyplot as plt"
   ]
  },
  {
   "cell_type": "markdown",
   "metadata": {},
   "source": [
    "# Problem 1"
   ]
  },
  {
   "cell_type": "code",
   "execution_count": 2,
   "metadata": {},
   "outputs": [
    {
     "data": {
      "text/html": [
       "<div>\n",
       "<style scoped>\n",
       "    .dataframe tbody tr th:only-of-type {\n",
       "        vertical-align: middle;\n",
       "    }\n",
       "\n",
       "    .dataframe tbody tr th {\n",
       "        vertical-align: top;\n",
       "    }\n",
       "\n",
       "    .dataframe thead th {\n",
       "        text-align: right;\n",
       "    }\n",
       "</style>\n",
       "<table border=\"1\" class=\"dataframe\">\n",
       "  <thead>\n",
       "    <tr style=\"text-align: right;\">\n",
       "      <th></th>\n",
       "      <th>MeanIP</th>\n",
       "      <th>StdIP</th>\n",
       "      <th>KurtosisIP</th>\n",
       "      <th>SkewIP</th>\n",
       "      <th>MeanDM</th>\n",
       "      <th>StdDM</th>\n",
       "      <th>KurtosisDM</th>\n",
       "      <th>SkewDM</th>\n",
       "      <th>Class</th>\n",
       "    </tr>\n",
       "  </thead>\n",
       "  <tbody>\n",
       "    <tr>\n",
       "      <td>0</td>\n",
       "      <td>140.562500</td>\n",
       "      <td>55.683782</td>\n",
       "      <td>-0.234571</td>\n",
       "      <td>-0.699648</td>\n",
       "      <td>3.199833</td>\n",
       "      <td>19.110426</td>\n",
       "      <td>7.975532</td>\n",
       "      <td>74.242225</td>\n",
       "      <td>0</td>\n",
       "    </tr>\n",
       "    <tr>\n",
       "      <td>1</td>\n",
       "      <td>102.507812</td>\n",
       "      <td>58.882430</td>\n",
       "      <td>0.465318</td>\n",
       "      <td>-0.515088</td>\n",
       "      <td>1.677258</td>\n",
       "      <td>14.860146</td>\n",
       "      <td>10.576487</td>\n",
       "      <td>127.393580</td>\n",
       "      <td>0</td>\n",
       "    </tr>\n",
       "    <tr>\n",
       "      <td>2</td>\n",
       "      <td>103.015625</td>\n",
       "      <td>39.341649</td>\n",
       "      <td>0.323328</td>\n",
       "      <td>1.051164</td>\n",
       "      <td>3.121237</td>\n",
       "      <td>21.744669</td>\n",
       "      <td>7.735822</td>\n",
       "      <td>63.171909</td>\n",
       "      <td>0</td>\n",
       "    </tr>\n",
       "    <tr>\n",
       "      <td>3</td>\n",
       "      <td>136.750000</td>\n",
       "      <td>57.178449</td>\n",
       "      <td>-0.068415</td>\n",
       "      <td>-0.636238</td>\n",
       "      <td>3.642977</td>\n",
       "      <td>20.959280</td>\n",
       "      <td>6.896499</td>\n",
       "      <td>53.593661</td>\n",
       "      <td>0</td>\n",
       "    </tr>\n",
       "    <tr>\n",
       "      <td>4</td>\n",
       "      <td>88.726562</td>\n",
       "      <td>40.672225</td>\n",
       "      <td>0.600866</td>\n",
       "      <td>1.123492</td>\n",
       "      <td>1.178930</td>\n",
       "      <td>11.468720</td>\n",
       "      <td>14.269573</td>\n",
       "      <td>252.567306</td>\n",
       "      <td>0</td>\n",
       "    </tr>\n",
       "  </tbody>\n",
       "</table>\n",
       "</div>"
      ],
      "text/plain": [
       "       MeanIP      StdIP  KurtosisIP    SkewIP    MeanDM      StdDM  \\\n",
       "0  140.562500  55.683782   -0.234571 -0.699648  3.199833  19.110426   \n",
       "1  102.507812  58.882430    0.465318 -0.515088  1.677258  14.860146   \n",
       "2  103.015625  39.341649    0.323328  1.051164  3.121237  21.744669   \n",
       "3  136.750000  57.178449   -0.068415 -0.636238  3.642977  20.959280   \n",
       "4   88.726562  40.672225    0.600866  1.123492  1.178930  11.468720   \n",
       "\n",
       "   KurtosisDM      SkewDM  Class  \n",
       "0    7.975532   74.242225      0  \n",
       "1   10.576487  127.393580      0  \n",
       "2    7.735822   63.171909      0  \n",
       "3    6.896499   53.593661      0  \n",
       "4   14.269573  252.567306      0  "
      ]
     },
     "execution_count": 2,
     "metadata": {},
     "output_type": "execute_result"
    }
   ],
   "source": [
    "df = pd.read_csv('HTRU_2.csv')\n",
    "X = df.drop(['Class'],axis = 1) # Inpt features\n",
    "y = df['Class'] # Output class\n",
    "df.head()"
   ]
  },
  {
   "cell_type": "code",
   "execution_count": 3,
   "metadata": {},
   "outputs": [
    {
     "data": {
      "text/html": [
       "<div>\n",
       "<style scoped>\n",
       "    .dataframe tbody tr th:only-of-type {\n",
       "        vertical-align: middle;\n",
       "    }\n",
       "\n",
       "    .dataframe tbody tr th {\n",
       "        vertical-align: top;\n",
       "    }\n",
       "\n",
       "    .dataframe thead th {\n",
       "        text-align: right;\n",
       "    }\n",
       "</style>\n",
       "<table border=\"1\" class=\"dataframe\">\n",
       "  <thead>\n",
       "    <tr style=\"text-align: right;\">\n",
       "      <th></th>\n",
       "      <th>MeanIP</th>\n",
       "      <th>StdIP</th>\n",
       "      <th>KurtosisIP</th>\n",
       "      <th>SkewIP</th>\n",
       "      <th>MeanDM</th>\n",
       "      <th>StdDM</th>\n",
       "      <th>KurtosisDM</th>\n",
       "      <th>SkewDM</th>\n",
       "      <th>Class</th>\n",
       "    </tr>\n",
       "  </thead>\n",
       "  <tbody>\n",
       "    <tr>\n",
       "      <td>count</td>\n",
       "      <td>17898.000000</td>\n",
       "      <td>17898.000000</td>\n",
       "      <td>17898.000000</td>\n",
       "      <td>17898.000000</td>\n",
       "      <td>17898.000000</td>\n",
       "      <td>17898.000000</td>\n",
       "      <td>17898.000000</td>\n",
       "      <td>17898.000000</td>\n",
       "      <td>17898.000000</td>\n",
       "    </tr>\n",
       "    <tr>\n",
       "      <td>mean</td>\n",
       "      <td>111.079968</td>\n",
       "      <td>46.549532</td>\n",
       "      <td>0.477857</td>\n",
       "      <td>1.770279</td>\n",
       "      <td>12.614400</td>\n",
       "      <td>26.326515</td>\n",
       "      <td>8.303556</td>\n",
       "      <td>104.857709</td>\n",
       "      <td>0.091574</td>\n",
       "    </tr>\n",
       "    <tr>\n",
       "      <td>std</td>\n",
       "      <td>25.652935</td>\n",
       "      <td>6.843189</td>\n",
       "      <td>1.064040</td>\n",
       "      <td>6.167913</td>\n",
       "      <td>29.472897</td>\n",
       "      <td>19.470572</td>\n",
       "      <td>4.506092</td>\n",
       "      <td>106.514540</td>\n",
       "      <td>0.288432</td>\n",
       "    </tr>\n",
       "    <tr>\n",
       "      <td>min</td>\n",
       "      <td>5.812500</td>\n",
       "      <td>24.772042</td>\n",
       "      <td>-1.876011</td>\n",
       "      <td>-1.791886</td>\n",
       "      <td>0.213211</td>\n",
       "      <td>7.370432</td>\n",
       "      <td>-3.139270</td>\n",
       "      <td>-1.976976</td>\n",
       "      <td>0.000000</td>\n",
       "    </tr>\n",
       "    <tr>\n",
       "      <td>25%</td>\n",
       "      <td>100.929688</td>\n",
       "      <td>42.376018</td>\n",
       "      <td>0.027098</td>\n",
       "      <td>-0.188572</td>\n",
       "      <td>1.923077</td>\n",
       "      <td>14.437332</td>\n",
       "      <td>5.781506</td>\n",
       "      <td>34.960504</td>\n",
       "      <td>0.000000</td>\n",
       "    </tr>\n",
       "    <tr>\n",
       "      <td>50%</td>\n",
       "      <td>115.078125</td>\n",
       "      <td>46.947479</td>\n",
       "      <td>0.223240</td>\n",
       "      <td>0.198710</td>\n",
       "      <td>2.801839</td>\n",
       "      <td>18.461316</td>\n",
       "      <td>8.433515</td>\n",
       "      <td>83.064556</td>\n",
       "      <td>0.000000</td>\n",
       "    </tr>\n",
       "    <tr>\n",
       "      <td>75%</td>\n",
       "      <td>127.085938</td>\n",
       "      <td>51.023202</td>\n",
       "      <td>0.473325</td>\n",
       "      <td>0.927783</td>\n",
       "      <td>5.464256</td>\n",
       "      <td>28.428104</td>\n",
       "      <td>10.702959</td>\n",
       "      <td>139.309331</td>\n",
       "      <td>0.000000</td>\n",
       "    </tr>\n",
       "    <tr>\n",
       "      <td>max</td>\n",
       "      <td>192.617188</td>\n",
       "      <td>98.778911</td>\n",
       "      <td>8.069522</td>\n",
       "      <td>68.101622</td>\n",
       "      <td>223.392140</td>\n",
       "      <td>110.642211</td>\n",
       "      <td>34.539844</td>\n",
       "      <td>1191.000837</td>\n",
       "      <td>1.000000</td>\n",
       "    </tr>\n",
       "  </tbody>\n",
       "</table>\n",
       "</div>"
      ],
      "text/plain": [
       "             MeanIP         StdIP    KurtosisIP        SkewIP        MeanDM  \\\n",
       "count  17898.000000  17898.000000  17898.000000  17898.000000  17898.000000   \n",
       "mean     111.079968     46.549532      0.477857      1.770279     12.614400   \n",
       "std       25.652935      6.843189      1.064040      6.167913     29.472897   \n",
       "min        5.812500     24.772042     -1.876011     -1.791886      0.213211   \n",
       "25%      100.929688     42.376018      0.027098     -0.188572      1.923077   \n",
       "50%      115.078125     46.947479      0.223240      0.198710      2.801839   \n",
       "75%      127.085938     51.023202      0.473325      0.927783      5.464256   \n",
       "max      192.617188     98.778911      8.069522     68.101622    223.392140   \n",
       "\n",
       "              StdDM    KurtosisDM        SkewDM         Class  \n",
       "count  17898.000000  17898.000000  17898.000000  17898.000000  \n",
       "mean      26.326515      8.303556    104.857709      0.091574  \n",
       "std       19.470572      4.506092    106.514540      0.288432  \n",
       "min        7.370432     -3.139270     -1.976976      0.000000  \n",
       "25%       14.437332      5.781506     34.960504      0.000000  \n",
       "50%       18.461316      8.433515     83.064556      0.000000  \n",
       "75%       28.428104     10.702959    139.309331      0.000000  \n",
       "max      110.642211     34.539844   1191.000837      1.000000  "
      ]
     },
     "execution_count": 3,
     "metadata": {},
     "output_type": "execute_result"
    }
   ],
   "source": [
    "df.describe()"
   ]
  },
  {
   "cell_type": "code",
   "execution_count": 4,
   "metadata": {},
   "outputs": [
    {
     "data": {
      "text/plain": [
       "array([0, 1])"
      ]
     },
     "execution_count": 4,
     "metadata": {},
     "output_type": "execute_result"
    }
   ],
   "source": [
    "df.Class.unique()"
   ]
  },
  {
   "cell_type": "code",
   "execution_count": 5,
   "metadata": {},
   "outputs": [
    {
     "name": "stdout",
     "output_type": "stream",
     "text": [
      "<class 'pandas.core.frame.DataFrame'>\n",
      "RangeIndex: 17898 entries, 0 to 17897\n",
      "Data columns (total 9 columns):\n",
      "MeanIP        17898 non-null float64\n",
      "StdIP         17898 non-null float64\n",
      "KurtosisIP    17898 non-null float64\n",
      "SkewIP        17898 non-null float64\n",
      "MeanDM        17898 non-null float64\n",
      "StdDM         17898 non-null float64\n",
      "KurtosisDM    17898 non-null float64\n",
      "SkewDM        17898 non-null float64\n",
      "Class         17898 non-null int64\n",
      "dtypes: float64(8), int64(1)\n",
      "memory usage: 1.2 MB\n"
     ]
    }
   ],
   "source": [
    "df.info()"
   ]
  },
  {
   "cell_type": "markdown",
   "metadata": {},
   "source": [
    "# 1.1"
   ]
  },
  {
   "cell_type": "code",
   "execution_count": 6,
   "metadata": {},
   "outputs": [],
   "source": [
    "\"\"\"Training Testing Data and Model setup\"\"\"\n",
    "from sklearn.model_selection import cross_validate\n",
    "from sklearn.metrics import confusion_matrix, classification_report # contains TP,TN,FP,FN\n",
    "from collections import defaultdict\n",
    "\n",
    "cv_fold = 5 # 5 fold cross validation\n"
   ]
  },
  {
   "cell_type": "code",
   "execution_count": 7,
   "metadata": {},
   "outputs": [],
   "source": [
    "\"\"\" SVM \"\"\"\n",
    "from sklearn.svm import SVC\n",
    "\n",
    "svm_scores = []\n",
    "svm_reg_params = [0.1,1,10] ## C in SVM\n",
    "for c in svm_reg_params:\n",
    "    clf_svm = SVC(kernel='linear', C=c)\n",
    "    svm_scores.append(cross_validate(clf_svm,X,y,cv=cv_fold,\\\n",
    "                                     scoring = ('accuracy','precision','recall','f1_weighted')))\n",
    "    "
   ]
  },
  {
   "cell_type": "code",
   "execution_count": 8,
   "metadata": {},
   "outputs": [
    {
     "name": "stdout",
     "output_type": "stream",
     "text": [
      "[{'fit_time': array([3.18052912, 4.21850991, 3.54655695, 3.28855801, 2.81606817]), 'score_time': array([0.0891192 , 0.10265517, 0.09059191, 0.08712411, 0.08682489]), 'test_accuracy': array([0.97513966, 0.97821229, 0.98128492, 0.97709497, 0.97680268]), 'test_precision': array([0.96138996, 0.95620438, 0.92508143, 0.91275168, 0.95864662]), 'test_recall': array([0.75914634, 0.79878049, 0.86585366, 0.82926829, 0.77981651]), 'test_f1_weighted': array([0.97380902, 0.9773248 , 0.98100557, 0.97659871, 0.97571737])}, {'fit_time': array([19.94967914, 22.37426686, 19.58245826, 18.69032788, 17.67715907]), 'score_time': array([0.08373094, 0.09099507, 0.08518887, 0.08405304, 0.08593893]), 'test_accuracy': array([0.97541899, 0.98072626, 0.98184358, 0.97793296, 0.97764114]), 'test_precision': array([0.96153846, 0.95438596, 0.92282958, 0.91362126, 0.95910781]), 'test_recall': array([0.76219512, 0.82926829, 0.875     , 0.83841463, 0.78899083]), 'test_f1_weighted': array([0.97412481, 0.98011356, 0.98162572, 0.97750496, 0.97665205])}, {'fit_time': array([105.78307295, 133.93019891, 118.86764002, 113.09006691,\n",
      "       130.62498307]), 'score_time': array([0.08716798, 0.07505083, 0.07369709, 0.08274198, 0.08657598]), 'test_accuracy': array([0.97541899, 0.98100559, 0.98184358, 0.97765363, 0.97792063]), 'test_precision': array([0.95801527, 0.95454545, 0.9201278 , 0.91059603, 0.95925926]), 'test_recall': array([0.7652439 , 0.83231707, 0.87804878, 0.83841463, 0.79204893]), 'test_f1_weighted': array([0.97416759, 0.98041688, 0.98165203, 0.977237  , 0.97696252])}]\n"
     ]
    }
   ],
   "source": [
    "print(svm_scores)"
   ]
  },
  {
   "cell_type": "code",
   "execution_count": 9,
   "metadata": {},
   "outputs": [],
   "source": [
    "\"\"\"Decision Tree\"\"\"\n",
    "from sklearn.tree import DecisionTreeClassifier\n",
    "\n",
    "dt_scores = []\n",
    "max_depths = [3,4,6]\n",
    "for d in max_depths:\n",
    "    clf_dt = DecisionTreeClassifier(max_depth = d)\n",
    "    dt_scores.append(cross_validate(clf_dt,X,y,cv=cv_fold,\\\n",
    "                                    scoring = ('accuracy','precision','recall','f1_weighted')))\n",
    "  "
   ]
  },
  {
   "cell_type": "code",
   "execution_count": 10,
   "metadata": {},
   "outputs": [
    {
     "name": "stdout",
     "output_type": "stream",
     "text": [
      "[{'fit_time': array([0.03573585, 0.03207278, 0.0321939 , 0.0318532 , 0.03196859]), 'score_time': array([0.00635123, 0.00622416, 0.00635886, 0.00632286, 0.0061183 ]), 'test_accuracy': array([0.97513966, 0.98100559, 0.97569832, 0.97430168, 0.98071548]), 'test_precision': array([0.91929825, 0.93046358, 0.85131195, 0.85329341, 0.93288591]), 'test_recall': array([0.79878049, 0.85670732, 0.8902439 , 0.86890244, 0.85015291]), 'test_f1_weighted': array([0.97434937, 0.98065145, 0.97594186, 0.97440627, 0.9803109 ])}, {'fit_time': array([0.04222393, 0.04173684, 0.04254484, 0.04170799, 0.04078293]), 'score_time': array([0.0062809 , 0.00647712, 0.00620699, 0.00608063, 0.00660229]), 'test_accuracy': array([0.97625698, 0.98184358, 0.97932961, 0.97653631, 0.98071548]), 'test_precision': array([0.94181818, 0.93979933, 0.88484848, 0.88125   , 0.94791667]), 'test_recall': array([0.78963415, 0.85670732, 0.8902439 , 0.8597561 , 0.83486239]), 'test_f1_weighted': array([0.97530951, 0.98146399, 0.97935784, 0.97640589, 0.98016151])}, {'fit_time': array([0.06056094, 0.060673  , 0.05976605, 0.05990291, 0.0599122 ]), 'score_time': array([0.00629902, 0.00642276, 0.00630283, 0.00629783, 0.00630689]), 'test_accuracy': array([0.97597765, 0.98044693, 0.97597765, 0.97318436, 0.98071548]), 'test_precision': array([0.94160584, 0.91612903, 0.86666667, 0.85151515, 0.95104895]), 'test_recall': array([0.78658537, 0.86585366, 0.87195122, 0.85670732, 0.83180428]), 'test_f1_weighted': array([0.97499914, 0.98019808, 0.97601047, 0.97322099, 0.98013099])}]\n"
     ]
    }
   ],
   "source": [
    "print(dt_scores)"
   ]
  },
  {
   "cell_type": "code",
   "execution_count": 11,
   "metadata": {},
   "outputs": [],
   "source": [
    "\"\"\"Random Forests\"\"\"\n",
    "from sklearn.ensemble import RandomForestClassifier\n",
    "\n",
    "rf_scores = []\n",
    "max_d = 5\n",
    "num_trees = [5,11,13]\n",
    "for N in num_trees:\n",
    "    clf_rf = RandomForestClassifier(max_depth = max_d, n_estimators = N,random_state = 0,n_jobs = -1)\n",
    "    rf_scores.append(cross_validate(clf_rf,X,y,cv=cv_fold,\\\n",
    "                                    scoring = ('accuracy','precision','recall','f1_weighted')))\n",
    "    \n",
    "   "
   ]
  },
  {
   "cell_type": "code",
   "execution_count": 12,
   "metadata": {},
   "outputs": [
    {
     "name": "stdout",
     "output_type": "stream",
     "text": [
      "[{'fit_time': array([1.3134594 , 0.46020818, 0.48948789, 0.48490715, 0.03838491]), 'score_time': array([0.43224669, 0.43039894, 0.42996716, 0.42706299, 0.43320608]), 'test_accuracy': array([0.97625698, 0.97653631, 0.98072626, 0.9773743 , 0.97540525]), 'test_precision': array([0.96197719, 0.93884892, 0.9218241 , 0.91304348, 0.94756554]), 'test_recall': array([0.77134146, 0.79573171, 0.86280488, 0.83231707, 0.77370031]), 'test_f1_weighted': array([0.97506879, 0.97565784, 0.98043857, 0.97690128, 0.97427554])}, {'fit_time': array([0.06370616, 0.51486111, 0.06080103, 0.05668616, 0.06040883]), 'score_time': array([0.4293828 , 0.42735314, 0.43251419, 0.42832804, 0.43427205]), 'test_accuracy': array([0.97541899, 0.97932961, 0.98128492, 0.97625698, 0.97680268]), 'test_precision': array([0.95454545, 0.95035461, 0.91693291, 0.89576547, 0.95185185]), 'test_recall': array([0.76829268, 0.81707317, 0.875     , 0.83841463, 0.78593272]), 'test_f1_weighted': array([0.97421005, 0.97862282, 0.98108747, 0.97590259, 0.97579607])}, {'fit_time': array([0.07424212, 0.08021665, 0.08060217, 0.06331992, 0.07016611]), 'score_time': array([0.42979598, 0.43152928, 0.42841792, 0.43206787, 0.43001604]), 'test_accuracy': array([0.97625698, 0.97905028, 0.98072626, 0.97625698, 0.97736165]), 'test_precision': array([0.95849057, 0.94699647, 0.91373802, 0.89320388, 0.94890511]), 'test_recall': array([0.77439024, 0.81707317, 0.87195122, 0.84146341, 0.79510703]), 'test_f1_weighted': array([0.97510965, 0.97835078, 0.98052292, 0.97593747, 0.97645498])}]\n"
     ]
    }
   ],
   "source": [
    "print(rf_scores)"
   ]
  },
  {
   "cell_type": "code",
   "execution_count": 15,
   "metadata": {},
   "outputs": [],
   "source": [
    "## Combining scores\n",
    "\n",
    "accuracy = defaultdict(list) # ex: 'svm': [c = 0.1(mean,sd), c = 1(mean,sd), c = 10(mean,sd)] \n",
    "recall = defaultdict(list)\n",
    "precision = defaultdict(list)\n",
    "f1_score = defaultdict(list)\n",
    "\n",
    "for clf in ['svm','dt','rf']:\n",
    "    score = eval(clf+'_scores')\n",
    "    for mets in score: #append in order\n",
    "        accuracy[clf].append((round(np.mean(mets['test_accuracy']),6),round(np.std(mets['test_accuracy']),8)))\n",
    "        precision[clf].append((round(np.mean(mets['test_precision']),6),round(np.std(mets['test_precision']),8)))\n",
    "        recall[clf].append((round(np.mean(mets['test_recall']),6),round(np.std(mets['test_recall']),8)))\n",
    "        f1_score[clf].append((round(np.mean(mets['test_f1_weighted']),6),round(np.std(mets['test_f1_weighted']),8)))\n",
    "        "
   ]
  },
  {
   "cell_type": "code",
   "execution_count": 16,
   "metadata": {},
   "outputs": [
    {
     "name": "stdout",
     "output_type": "stream",
     "text": [
      "accuracy: defaultdict(<class 'list'>, {'svm': [(0.977707, 0.00204159), (0.978713, 0.0023005), (0.978768, 0.00235124)], 'dt': [(0.977372, 0.00288421), (0.978936, 0.00222311), (0.97726, 0.00289816)], 'rf': [(0.97726, 0.00184379), (0.977819, 0.00216921), (0.97793, 0.00173177)]}) \n",
      "\n",
      "precision: defaultdict(<class 'list'>, {'svm': [(0.942815, 0.01996611), (0.942297, 0.02000129), (0.940509, 0.02080982)], 'dt': [(0.897451, 0.03715231), (0.919127, 0.02959988), (0.905393, 0.03978354)], 'rf': [(0.936652, 0.01756431), (0.93389, 0.02350056), (0.932267, 0.02470105)]}) \n",
      "\n",
      "recall: defaultdict(<class 'list'>, {'svm': [(0.806573, 0.0375638), (0.818774, 0.03935849), (0.821215, 0.03907067)], 'dt': [(0.852957, 0.03033675), (0.846241, 0.03335346), (0.84258, 0.03116225)], 'rf': [(0.807179, 0.03539026), (0.816943, 0.03784218), (0.819997, 0.03425809)]}) \n",
      "\n",
      "f1_weighted: defaultdict(<class 'list'>, {'svm': [(0.976891, 0.00236978), (0.978004, 0.00263408), (0.978087, 0.00266407)], 'dt': [(0.977132, 0.00279575), (0.97854, 0.00231683), (0.976912, 0.00280199)], 'rf': [(0.976468, 0.00216214), (0.977124, 0.00243729), (0.977275, 0.00194198)]}) \n",
      "\n"
     ]
    }
   ],
   "source": [
    "from IPython.display import HTML, display,Markdown\n",
    "print(\"accuracy:\", accuracy,'\\n')\n",
    "print(\"precision:\", precision,'\\n')\n",
    "print(\"recall:\", recall,'\\n')\n",
    "print(\"f1_weighted:\", f1_score,'\\n')"
   ]
  },
  {
   "cell_type": "code",
   "execution_count": 17,
   "metadata": {},
   "outputs": [
    {
     "name": "stdout",
     "output_type": "stream",
     "text": [
      "Rows are in the order of Increasing parameters as given in the Homework PS\n"
     ]
    },
    {
     "data": {
      "text/markdown": [
       "**Accuracy: (Mean, SD)**"
      ],
      "text/plain": [
       "<IPython.core.display.Markdown object>"
      ]
     },
     "metadata": {},
     "output_type": "display_data"
    },
    {
     "data": {
      "text/html": [
       "<div>\n",
       "<style scoped>\n",
       "    .dataframe tbody tr th:only-of-type {\n",
       "        vertical-align: middle;\n",
       "    }\n",
       "\n",
       "    .dataframe tbody tr th {\n",
       "        vertical-align: top;\n",
       "    }\n",
       "\n",
       "    .dataframe thead th {\n",
       "        text-align: right;\n",
       "    }\n",
       "</style>\n",
       "<table border=\"1\" class=\"dataframe\">\n",
       "  <thead>\n",
       "    <tr style=\"text-align: right;\">\n",
       "      <th></th>\n",
       "      <th>svm</th>\n",
       "      <th>dt</th>\n",
       "      <th>rf</th>\n",
       "    </tr>\n",
       "  </thead>\n",
       "  <tbody>\n",
       "    <tr>\n",
       "      <td>0</td>\n",
       "      <td>(0.977707, 0.00204159)</td>\n",
       "      <td>(0.977372, 0.00288421)</td>\n",
       "      <td>(0.97726, 0.00184379)</td>\n",
       "    </tr>\n",
       "    <tr>\n",
       "      <td>1</td>\n",
       "      <td>(0.978713, 0.0023005)</td>\n",
       "      <td>(0.978936, 0.00222311)</td>\n",
       "      <td>(0.977819, 0.00216921)</td>\n",
       "    </tr>\n",
       "    <tr>\n",
       "      <td>2</td>\n",
       "      <td>(0.978768, 0.00235124)</td>\n",
       "      <td>(0.97726, 0.00289816)</td>\n",
       "      <td>(0.97793, 0.00173177)</td>\n",
       "    </tr>\n",
       "  </tbody>\n",
       "</table>\n",
       "</div>"
      ],
      "text/plain": [
       "                      svm                      dt                      rf\n",
       "0  (0.977707, 0.00204159)  (0.977372, 0.00288421)   (0.97726, 0.00184379)\n",
       "1   (0.978713, 0.0023005)  (0.978936, 0.00222311)  (0.977819, 0.00216921)\n",
       "2  (0.978768, 0.00235124)   (0.97726, 0.00289816)   (0.97793, 0.00173177)"
      ]
     },
     "execution_count": 17,
     "metadata": {},
     "output_type": "execute_result"
    }
   ],
   "source": [
    "acc = pd.DataFrame.from_dict(accuracy)\n",
    "print(\"Rows are in the order of Increasing parameters as given in the Homework PS\")\n",
    "display(Markdown('**Accuracy: (Mean, SD)**'))\n",
    "acc"
   ]
  },
  {
   "cell_type": "code",
   "execution_count": 18,
   "metadata": {},
   "outputs": [
    {
     "name": "stdout",
     "output_type": "stream",
     "text": [
      "Rows are in the order of Increasing parameters as given in the Homework PS\n"
     ]
    },
    {
     "data": {
      "text/markdown": [
       "**Precision: (Mean, SD)**"
      ],
      "text/plain": [
       "<IPython.core.display.Markdown object>"
      ]
     },
     "metadata": {},
     "output_type": "display_data"
    },
    {
     "data": {
      "text/html": [
       "<div>\n",
       "<style scoped>\n",
       "    .dataframe tbody tr th:only-of-type {\n",
       "        vertical-align: middle;\n",
       "    }\n",
       "\n",
       "    .dataframe tbody tr th {\n",
       "        vertical-align: top;\n",
       "    }\n",
       "\n",
       "    .dataframe thead th {\n",
       "        text-align: right;\n",
       "    }\n",
       "</style>\n",
       "<table border=\"1\" class=\"dataframe\">\n",
       "  <thead>\n",
       "    <tr style=\"text-align: right;\">\n",
       "      <th></th>\n",
       "      <th>svm</th>\n",
       "      <th>dt</th>\n",
       "      <th>rf</th>\n",
       "    </tr>\n",
       "  </thead>\n",
       "  <tbody>\n",
       "    <tr>\n",
       "      <td>0</td>\n",
       "      <td>(0.942815, 0.01996611)</td>\n",
       "      <td>(0.897451, 0.03715231)</td>\n",
       "      <td>(0.936652, 0.01756431)</td>\n",
       "    </tr>\n",
       "    <tr>\n",
       "      <td>1</td>\n",
       "      <td>(0.942297, 0.02000129)</td>\n",
       "      <td>(0.919127, 0.02959988)</td>\n",
       "      <td>(0.93389, 0.02350056)</td>\n",
       "    </tr>\n",
       "    <tr>\n",
       "      <td>2</td>\n",
       "      <td>(0.940509, 0.02080982)</td>\n",
       "      <td>(0.905393, 0.03978354)</td>\n",
       "      <td>(0.932267, 0.02470105)</td>\n",
       "    </tr>\n",
       "  </tbody>\n",
       "</table>\n",
       "</div>"
      ],
      "text/plain": [
       "                      svm                      dt                      rf\n",
       "0  (0.942815, 0.01996611)  (0.897451, 0.03715231)  (0.936652, 0.01756431)\n",
       "1  (0.942297, 0.02000129)  (0.919127, 0.02959988)   (0.93389, 0.02350056)\n",
       "2  (0.940509, 0.02080982)  (0.905393, 0.03978354)  (0.932267, 0.02470105)"
      ]
     },
     "execution_count": 18,
     "metadata": {},
     "output_type": "execute_result"
    }
   ],
   "source": [
    "pre = pd.DataFrame.from_dict(precision)\n",
    "print(\"Rows are in the order of Increasing parameters as given in the Homework PS\")\n",
    "display(Markdown('**Precision: (Mean, SD)**'))\n",
    "pre"
   ]
  },
  {
   "cell_type": "code",
   "execution_count": 19,
   "metadata": {},
   "outputs": [
    {
     "name": "stdout",
     "output_type": "stream",
     "text": [
      "Rowas are in the order of Increasing parameters as given in the Homework PS\n"
     ]
    },
    {
     "data": {
      "text/markdown": [
       "**Recall: (Mean, SD)**"
      ],
      "text/plain": [
       "<IPython.core.display.Markdown object>"
      ]
     },
     "metadata": {},
     "output_type": "display_data"
    },
    {
     "data": {
      "text/html": [
       "<div>\n",
       "<style scoped>\n",
       "    .dataframe tbody tr th:only-of-type {\n",
       "        vertical-align: middle;\n",
       "    }\n",
       "\n",
       "    .dataframe tbody tr th {\n",
       "        vertical-align: top;\n",
       "    }\n",
       "\n",
       "    .dataframe thead th {\n",
       "        text-align: right;\n",
       "    }\n",
       "</style>\n",
       "<table border=\"1\" class=\"dataframe\">\n",
       "  <thead>\n",
       "    <tr style=\"text-align: right;\">\n",
       "      <th></th>\n",
       "      <th>svm</th>\n",
       "      <th>dt</th>\n",
       "      <th>rf</th>\n",
       "    </tr>\n",
       "  </thead>\n",
       "  <tbody>\n",
       "    <tr>\n",
       "      <td>0</td>\n",
       "      <td>(0.806573, 0.0375638)</td>\n",
       "      <td>(0.852957, 0.03033675)</td>\n",
       "      <td>(0.807179, 0.03539026)</td>\n",
       "    </tr>\n",
       "    <tr>\n",
       "      <td>1</td>\n",
       "      <td>(0.818774, 0.03935849)</td>\n",
       "      <td>(0.846241, 0.03335346)</td>\n",
       "      <td>(0.816943, 0.03784218)</td>\n",
       "    </tr>\n",
       "    <tr>\n",
       "      <td>2</td>\n",
       "      <td>(0.821215, 0.03907067)</td>\n",
       "      <td>(0.84258, 0.03116225)</td>\n",
       "      <td>(0.819997, 0.03425809)</td>\n",
       "    </tr>\n",
       "  </tbody>\n",
       "</table>\n",
       "</div>"
      ],
      "text/plain": [
       "                      svm                      dt                      rf\n",
       "0   (0.806573, 0.0375638)  (0.852957, 0.03033675)  (0.807179, 0.03539026)\n",
       "1  (0.818774, 0.03935849)  (0.846241, 0.03335346)  (0.816943, 0.03784218)\n",
       "2  (0.821215, 0.03907067)   (0.84258, 0.03116225)  (0.819997, 0.03425809)"
      ]
     },
     "execution_count": 19,
     "metadata": {},
     "output_type": "execute_result"
    }
   ],
   "source": [
    "rec = pd.DataFrame.from_dict(recall)\n",
    "print(\"Rowas are in the order of Increasing parameters as given in the Homework PS\")\n",
    "display(Markdown('**Recall: (Mean, SD)**'))\n",
    "rec"
   ]
  },
  {
   "cell_type": "code",
   "execution_count": 20,
   "metadata": {},
   "outputs": [
    {
     "name": "stdout",
     "output_type": "stream",
     "text": [
      "Rowas are in the order of Increasing parameters as given in the Homework PS\n",
      "This metric accounts forlabel imbalance by appropriately weighing labels\n"
     ]
    },
    {
     "data": {
      "text/markdown": [
       "**f1_score Weighted: (Mean, SD)**"
      ],
      "text/plain": [
       "<IPython.core.display.Markdown object>"
      ]
     },
     "metadata": {},
     "output_type": "display_data"
    },
    {
     "data": {
      "text/html": [
       "<div>\n",
       "<style scoped>\n",
       "    .dataframe tbody tr th:only-of-type {\n",
       "        vertical-align: middle;\n",
       "    }\n",
       "\n",
       "    .dataframe tbody tr th {\n",
       "        vertical-align: top;\n",
       "    }\n",
       "\n",
       "    .dataframe thead th {\n",
       "        text-align: right;\n",
       "    }\n",
       "</style>\n",
       "<table border=\"1\" class=\"dataframe\">\n",
       "  <thead>\n",
       "    <tr style=\"text-align: right;\">\n",
       "      <th></th>\n",
       "      <th>svm</th>\n",
       "      <th>dt</th>\n",
       "      <th>rf</th>\n",
       "    </tr>\n",
       "  </thead>\n",
       "  <tbody>\n",
       "    <tr>\n",
       "      <td>0</td>\n",
       "      <td>(0.976891, 0.00236978)</td>\n",
       "      <td>(0.977132, 0.00279575)</td>\n",
       "      <td>(0.976468, 0.00216214)</td>\n",
       "    </tr>\n",
       "    <tr>\n",
       "      <td>1</td>\n",
       "      <td>(0.978004, 0.00263408)</td>\n",
       "      <td>(0.97854, 0.00231683)</td>\n",
       "      <td>(0.977124, 0.00243729)</td>\n",
       "    </tr>\n",
       "    <tr>\n",
       "      <td>2</td>\n",
       "      <td>(0.978087, 0.00266407)</td>\n",
       "      <td>(0.976912, 0.00280199)</td>\n",
       "      <td>(0.977275, 0.00194198)</td>\n",
       "    </tr>\n",
       "  </tbody>\n",
       "</table>\n",
       "</div>"
      ],
      "text/plain": [
       "                      svm                      dt                      rf\n",
       "0  (0.976891, 0.00236978)  (0.977132, 0.00279575)  (0.976468, 0.00216214)\n",
       "1  (0.978004, 0.00263408)   (0.97854, 0.00231683)  (0.977124, 0.00243729)\n",
       "2  (0.978087, 0.00266407)  (0.976912, 0.00280199)  (0.977275, 0.00194198)"
      ]
     },
     "execution_count": 20,
     "metadata": {},
     "output_type": "execute_result"
    }
   ],
   "source": [
    "f1s = pd.DataFrame.from_dict(f1_score)\n",
    "print(\"Rowas are in the order of Increasing parameters as given in the Homework PS\")\n",
    "print(\"This metric accounts forlabel imbalance by appropriately weighing labels\")\n",
    "display(Markdown('**f1_score Weighted: (Mean, SD)**'))\n",
    "f1s"
   ]
  },
  {
   "cell_type": "markdown",
   "metadata": {},
   "source": [
    "# 1.2"
   ]
  },
  {
   "cell_type": "code",
   "execution_count": 21,
   "metadata": {},
   "outputs": [
    {
     "data": {
      "image/png": "[encoded data removed]",
      "text/plain": [
       "<Figure size 432x288 with 1 Axes>"
      ]
     },
     "metadata": {
      "needs_background": "light"
     },
     "output_type": "display_data"
    }
   ],
   "source": [
    "plt.hist(df['Class'])\n",
    "plt.xlabel('Class Label')\n",
    "plt.ylabel('Frequency')\n",
    "plt.title('Historgram of Class Labels - Imbalanced classes')\n",
    "plt.show()"
   ]
  },
  {
   "cell_type": "markdown",
   "metadata": {},
   "source": [
    "1. We see that the classes are highly imbalanced, non pulsar objects are in large number compared to pulsar objects. So even if the predicted predicts all samples as \"not a pulsar (0)\" the accuracy will be greater than **~90%** <br>\n",
    "\n",
    "2. Whereas **precision** and **recall** are more dependent on **True Positives (TP)** i.e. classiying Pulsars correctly (True) as Pulsars (1)."
   ]
  },
  {
   "cell_type": "markdown",
   "metadata": {},
   "source": [
    "# 1.3"
   ]
  },
  {
   "cell_type": "markdown",
   "metadata": {},
   "source": [
    "The best classifier is **SVM (C = 10)** though others are very close in terms of F1_weighted score. I used F1_Weighted as the scoring metric. This metric accounts for label imbalance by appropriately weighing labels."
   ]
  }
 ],
 "metadata": {
  "kernelspec": {
   "display_name": "Python 3",
   "language": "python",
   "name": "python3"
  },
  "language_info": {
   "codemirror_mode": {
    "name": "ipython",
    "version": 3
   },
   "file_extension": ".py",
   "mimetype": "text/x-python",
   "name": "python",
   "nbconvert_exporter": "python",
   "pygments_lexer": "ipython3",
   "version": "3.7.4"
  }
 },
 "nbformat": 4,
 "nbformat_minor": 2
}
