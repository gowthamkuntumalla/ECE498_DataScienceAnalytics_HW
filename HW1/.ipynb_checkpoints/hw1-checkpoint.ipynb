{
 "cells": [
  {
   "cell_type": "code",
   "execution_count": 1,
   "metadata": {},
   "outputs": [],
   "source": [
    "NetID = \"gowtham4\""
   ]
  },
  {
   "cell_type": "markdown",
   "metadata": {},
   "source": [
    "# Part A: Parsing"
   ]
  },
  {
   "cell_type": "code",
   "execution_count": 2,
   "metadata": {},
   "outputs": [],
   "source": [
    "# read in pf.log\n",
    "with open('pf.log') as f:\n",
    "    lines = f.readlines()\n",
    "\n",
    "# strip all lines of whitespace\n",
    "lines = [line.strip() for line in lines]\n"
   ]
  },
  {
   "cell_type": "code",
   "execution_count": 3,
   "metadata": {},
   "outputs": [],
   "source": [
    "# parse each line into your data structure\n",
    "# remember to convert addresses from strings to integers\n",
    "\n",
    "\"\"\"  Dictionary to hold a list of backtraces for each pagefault \n",
    "\n",
    "key = tuple (pagefault details) -- Tuple\n",
    "value = list (backtraces) -- 2D list\n",
    "\n",
    "\"\"\"\n",
    "\n",
    "parsed_lines = {}\n",
    "\n",
    "i = 0\n",
    "while(i<len(lines)):\n",
    "    line = lines[i]\n",
    "    if not (line[:2] == '</'):\n",
    "        \n",
    "        #parse main line\n",
    "        pf_details = tuple(line.split(':'))\n",
    "        i+=1        \n",
    "        pf_backtraces = []\n",
    "        \n",
    "        # parse backtraces        \n",
    "        while(i< len(lines) and lines[i][:2] == '</'):\n",
    "            library, off_adr = lines[i].split('+')\n",
    "            offset,address = off_adr.split('/')\n",
    "            pf_backtraces.append([library,str(int(address.rstrip('>'),16)),str(int(offset,16))])\n",
    "            i+=1\n",
    "             \n",
    "        parsed_lines[pf_details] = pf_backtraces\n",
    "        \n",
    "        "
   ]
  },
  {
   "cell_type": "code",
   "execution_count": 4,
   "metadata": {},
   "outputs": [
    {
     "name": "stdout",
     "output_type": "stream",
     "text": [
      "(('1506816069251', 'firefox', '13179', '0x282235aae', 'R', 'minor', '50'), [['</usr/lib/x86_64-linux-gnu/libcairo.so.2.11400.10', '16727808', '686943'], ['</lib/x86_64-linux-gnu/libglib-2.0.so.0.5400.1', '16748032', '660132'], ['</lib/x86_64-linux-gnu/libpthread-2.26.so', '16746496', '483292'], ['</usr/lib/x86_64-linux-gnu/libX11.so.6.3.0', '16748800', '108902'], ['</lib/x86_64-linux-gnu/libc-2.26.so', '16767232', '7501']])\n",
      "(('1506816074664', 'firefox', '13179', '0x10fb420b4', 'W', 'minor', '23'), [['</lib/x86_64-linux-gnu/libglib-2.0.so.0.5400.1', '16657664', '64606'], ['</usr/lib/x86_64-linux-gnu/libxcb.so.1.1.0', '16756992', '607425'], ['</lib/x86_64-linux-gnu/libpthread-2.26.so', '16759296', '459484'], ['</lib/x86_64-linux-gnu/libc-2.26.so', '16723456', '528024'], ['</usr/lib/x86_64-linux-gnu/libgdk-x11-2.0.so.0.2400.31', '16689664', '40592'], ['</usr/lib/x86_64-linux-gnu/libX11.so.6.3.0', '16659456', '385253'], ['</usr/lib/x86_64-linux-gnu/libcairo.so.2.11400.10', '16731648', '161826']])\n",
      "(('1506816094793', 'thunderbird', '5914', '0x3e9e414bb', 'W', 'minor', '11'), [['</usr/lib/x86_64-linux-gnu/libxcb.so.1.1.0', '16716800', '619231']])\n",
      "(('1506816166103', 'watchdog', '7518', '0x2a537754b', 'R', 'minor', '17'), [['</lib/x86_64-linux-gnu/libglib-2.0.so.0.5400.1', '16755200', '381200'], ['</usr/lib/x86_64-linux-gnu/libX11.so.6.3.0', '16756480', '490547'], ['</lib/x86_64-linux-gnu/libc-2.26.so', '16723456', '463886'], ['</usr/lib/x86_64-linux-gnu/libcairo.so.2.11400.10', '16720640', '79241'], ['</usr/lib/x86_64-linux-gnu/libgdk-x11-2.0.so.0.2400.31', '16706816', '124380'], ['</lib/x86_64-linux-gnu/libpthread-2.26.so', '16758272', '751319'], ['</usr/lib/x86_64-linux-gnu/libxcb.so.1.1.0', '16721152', '184707']])\n",
      "(('1506816180376', 'thunderbird', '5914', '0x1bf19b90a', 'W', 'minor', '12'), [['</usr/lib/x86_64-linux-gnu/libgdk-x11-2.0.so.0.2400.31', '16675328', '592929']])\n"
     ]
    }
   ],
   "source": [
    "#[print(v) for i, v in enumerate(parsed_lines.items()) if i < 5]    \n",
    "\n",
    "for i, v in enumerate(parsed_lines.items()):\n",
    "    if (i<5):\n",
    "        print(v)\n",
    "        \n",
    "    else:\n",
    "        break"
   ]
  },
  {
   "cell_type": "code",
   "execution_count": 5,
   "metadata": {},
   "outputs": [],
   "source": [
    "# write your data structure out to pf.csv\n",
    "# include an index column with unique indices for each page fault\n",
    "with open('pf.csv', 'w') as f:\n",
    "    # write header line\n",
    "    f.write('\\t'.join(['index', 'time', 'proc_name', 'pid', 'pfaddr', 'rw', 'major_minor', 'resolve_time', 'lib', 'addr', 'offset']))\n",
    "    f.write('\\n')\n",
    "    \n",
    "    for index, key in enumerate(parsed_lines):\n",
    "        \n",
    "        # we will append backtrace values later\n",
    "        csv_entry = [str(index+1)]+ list(key)       \n",
    "        backtraces = parsed_lines[key]\n",
    "        \n",
    "        # write all backtraces with a single key\n",
    "        for backt in backtraces:\n",
    "            \n",
    "            f.write('\\t'.join(csv_entry + backt))\n",
    "            f.write('\\n')\n",
    "        \n",
    "    \n",
    "    # write each page fault & backtrace entry\n",
    "    # hint: take a look at python's enumerate() function to generate indices\n",
    "    # Remember that indices should be unique to each page fault\n",
    "\n"
   ]
  },
  {
   "cell_type": "markdown",
   "metadata": {},
   "source": [
    "# Part B: Analysis"
   ]
  },
  {
   "cell_type": "code",
   "execution_count": 6,
   "metadata": {},
   "outputs": [],
   "source": [
    "import pandas as pd\n",
    "import numpy as np\n",
    "import matplotlib.mlab as mlab\n",
    "import matplotlib.pyplot as plt"
   ]
  },
  {
   "cell_type": "code",
   "execution_count": 7,
   "metadata": {},
   "outputs": [],
   "source": [
    "# relevant options when reading in pf.csv: sep, parse_dates\n",
    "df = pd.read_csv('pf.csv', sep = '\\t', parse_dates = [1])\n",
    "# set the index of the data frame\n",
    "df['time'] = pd.to_datetime(df['time'],unit='ms') # epoch time is in milliseconds\n",
    "df.set_index('time', inplace=True)"
   ]
  },
  {
   "cell_type": "code",
   "execution_count": 8,
   "metadata": {},
   "outputs": [
    {
     "name": "stdout",
     "output_type": "stream",
     "text": [
      "DatetimeIndex(['2017-10-01 00:01:09.251000', '2017-10-01 00:01:09.251000',\n",
      "               '2017-10-01 00:01:09.251000', '2017-10-01 00:01:09.251000',\n",
      "               '2017-10-01 00:01:09.251000', '2017-10-01 00:01:14.664000',\n",
      "               '2017-10-01 00:01:14.664000', '2017-10-01 00:01:14.664000',\n",
      "               '2017-10-01 00:01:14.664000', '2017-10-01 00:01:14.664000',\n",
      "               ...\n",
      "               '2018-01-07 18:56:37.930000', '2018-01-07 18:56:37.930000',\n",
      "               '2018-01-07 18:56:37.930000', '2018-01-07 18:56:37.930000',\n",
      "               '2018-01-07 18:56:37.930000', '2018-01-07 18:56:37.930000',\n",
      "               '2018-01-07 18:57:45.990000', '2018-01-07 18:59:50.839000',\n",
      "               '2018-01-07 18:59:50.839000', '2018-01-07 18:59:50.839000'],\n",
      "              dtype='datetime64[ns]', name='time', length=2809731, freq=None) \n",
      "\n",
      "\n",
      "Answer (B.a):  Time Range : 2017-10-01 00:01:09.251000 to 2018-01-07 18:59:50.839000\n"
     ]
    }
   ],
   "source": [
    "\n",
    "df.sort_index(inplace=True)\n",
    "print(df.index,'\\n\\n')\n",
    "print(\"Answer (B.a):  Time Range : {0} to {1}\".format(df.index[0],df.index[-1]))"
   ]
  },
  {
   "cell_type": "code",
   "execution_count": 9,
   "metadata": {},
   "outputs": [
    {
     "name": "stdout",
     "output_type": "stream",
     "text": [
      "Answer (B.b) Unique Processes:\n",
      "['firefox' 'thunderbird' 'watchdog' 'auditd' 'subl' 'gitlab-runner' 'sshd'\n",
      " 'google-chrome' 'bash' 'tmux' 'xorg' 'htop']\n",
      "12\n",
      "Number of counts for each unique process for each\n"
     ]
    },
    {
     "data": {
      "text/plain": [
       "proc_name\n",
       "auditd           228982\n",
       "bash             229904\n",
       "firefox          233452\n",
       "gitlab-runner    218405\n",
       "google-chrome    238107\n",
       "htop             232215\n",
       "sshd             246903\n",
       "subl             245982\n",
       "thunderbird      237590\n",
       "tmux             219329\n",
       "watchdog         234938\n",
       "xorg             243924\n",
       "Name: pid, dtype: int64"
      ]
     },
     "execution_count": 9,
     "metadata": {},
     "output_type": "execute_result"
    }
   ],
   "source": [
    "print('Answer (B.b) Unique Processes:')\n",
    "uniq_proc = df.proc_name.unique()\n",
    "print(uniq_proc)\n",
    "print(len(uniq_proc))\n",
    "\n",
    "print('Number of counts for each unique process for each')\n",
    "df.groupby('proc_name').pid.count() # Also df.groupby('proc_name').pid.count().sum() == df['index'].count().sum() "
   ]
  },
  {
   "cell_type": "code",
   "execution_count": 10,
   "metadata": {
    "scrolled": true
   },
   "outputs": [
    {
     "name": "stdout",
     "output_type": "stream",
     "text": [
      "Answer (B.c): Major - Minor bar plots\n"
     ]
    },
    {
     "data": {
      "text/plain": [
       "<matplotlib.axes._subplots.AxesSubplot at 0x103600150>"
      ]
     },
     "execution_count": 10,
     "metadata": {},
     "output_type": "execute_result"
    },
    {
     "data": {
      "image/png": "[encoded data removed]",
      "text/plain": [
       "<Figure size 432x288 with 1 Axes>"
      ]
     },
     "metadata": {
      "needs_background": "light"
     },
     "output_type": "display_data"
    }
   ],
   "source": [
    "print('Answer (B.c): Major - Minor bar plots')\n",
    "\n",
    "maj_min = df.groupby(['proc_name','index','major_minor'])['major_minor'].nunique()#.reset_index().set_index('proc_name')\n",
    "num_errors_type = maj_min.groupby(['proc_name','major_minor']).count().unstack()\n",
    "num_errors_type.plot.bar()"
   ]
  },
  {
   "cell_type": "code",
   "execution_count": 15,
   "metadata": {},
   "outputs": [
    {
     "name": "stdout",
     "output_type": "stream",
     "text": [
      "Answer (B.d): Histograms separated by type of pagefault\n",
      "\n",
      " agg results of minor page faults are:\n",
      "                    mean        std\n",
      "proc_name                          \n",
      "auditd         27.522918  13.291775\n",
      "bash           27.429991  13.285091\n",
      "firefox        27.586621  13.292283\n",
      "gitlab-runner  27.401360  13.241882\n",
      "google-chrome  27.486030  13.217610\n",
      "htop           27.359186  13.283209\n",
      "sshd           27.541563  13.300029\n",
      "subl           27.426151  13.238984\n",
      "thunderbird    27.458199  13.254275\n",
      "tmux           27.421387  13.280019\n",
      "watchdog       27.615395  13.272543\n",
      "xorg           27.528463  13.263153\n"
     ]
    },
    {
     "data": {
      "image/png": "[encoded data removed]",
      "text/plain": [
       "<Figure size 432x288 with 1 Axes>"
      ]
     },
     "metadata": {
      "needs_background": "light"
     },
     "output_type": "display_data"
    },
    {
     "name": "stdout",
     "output_type": "stream",
     "text": [
      "\n",
      " agg results of major page faults are:\n",
      "                     mean         std\n",
      "proc_name                            \n",
      "auditd         218.191273  105.493006\n",
      "bash           219.380514  105.209861\n",
      "firefox        219.960241  104.477581\n",
      "gitlab-runner  213.306051  105.639431\n",
      "google-chrome  218.813443  104.972038\n",
      "htop           219.088798  104.744666\n",
      "sshd           216.805671  105.636435\n",
      "subl           215.073090  106.021568\n",
      "thunderbird    219.667928  106.878117\n",
      "tmux           219.742614  105.805424\n",
      "watchdog       215.778328  105.352504\n",
      "xorg           216.892856  105.984679\n"
     ]
    },
    {
     "data": {
      "image/png": "[encoded data removed]",
      "text/plain": [
       "<Figure size 432x288 with 1 Axes>"
      ]
     },
     "metadata": {
      "needs_background": "light"
     },
     "output_type": "display_data"
    }
   ],
   "source": [
    "print('Answer (B.d): Histograms separated by type of pagefault')\n",
    "#d = df.groupby(['proc_name','index','major_minor']).nunique()\n",
    "\n",
    "for typ in ['minor','major']:\n",
    "    \n",
    "    df_i = df[df['major_minor'] == typ]\n",
    "    print('\\n agg results of {0} page faults are:'.format(typ))\n",
    "    print(df_i.groupby('proc_name')['resolve_time'].agg(['mean','std']))\n",
    "    \n",
    "    plt.figure()\n",
    "    df_i['resolve_time'].plot(kind = 'hist',bins = 50)\n",
    "    plt.xlabel('Resolve time (units as in logs)')\n",
    "    plt.ylabel('PDF - Frquency')\n",
    "    t = typ + 'Page Faults histogram'\n",
    "    plt.title(t)\n",
    "    plt.show()\n",
    "    "
   ]
  },
  {
   "cell_type": "markdown",
   "metadata": {},
   "source": [
    "# Part C: Making Predictions"
   ]
  },
  {
   "cell_type": "code",
   "execution_count": 12,
   "metadata": {},
   "outputs": [
    {
     "data": {
      "text/html": [
       "<div>\n",
       "<style scoped>\n",
       "    .dataframe tbody tr th:only-of-type {\n",
       "        vertical-align: middle;\n",
       "    }\n",
       "\n",
       "    .dataframe tbody tr th {\n",
       "        vertical-align: top;\n",
       "    }\n",
       "\n",
       "    .dataframe thead th {\n",
       "        text-align: right;\n",
       "    }\n",
       "</style>\n",
       "<table border=\"1\" class=\"dataframe\">\n",
       "  <thead>\n",
       "    <tr style=\"text-align: right;\">\n",
       "      <th></th>\n",
       "      <th>index</th>\n",
       "      <th>proc_name</th>\n",
       "      <th>pid</th>\n",
       "      <th>pfaddr</th>\n",
       "      <th>rw</th>\n",
       "      <th>major_minor</th>\n",
       "      <th>resolve_time</th>\n",
       "      <th>lib</th>\n",
       "      <th>addr</th>\n",
       "      <th>offset</th>\n",
       "    </tr>\n",
       "    <tr>\n",
       "      <th>time</th>\n",
       "      <th></th>\n",
       "      <th></th>\n",
       "      <th></th>\n",
       "      <th></th>\n",
       "      <th></th>\n",
       "      <th></th>\n",
       "      <th></th>\n",
       "      <th></th>\n",
       "      <th></th>\n",
       "      <th></th>\n",
       "    </tr>\n",
       "  </thead>\n",
       "  <tbody>\n",
       "    <tr>\n",
       "      <td>2017-10-01 00:01:09.251</td>\n",
       "      <td>1</td>\n",
       "      <td>firefox</td>\n",
       "      <td>13179</td>\n",
       "      <td>0x282235aae</td>\n",
       "      <td>R</td>\n",
       "      <td>minor</td>\n",
       "      <td>50</td>\n",
       "      <td>&lt;/usr/lib/x86_64-linux-gnu/libcairo.so.2.11400.10</td>\n",
       "      <td>16727808</td>\n",
       "      <td>686943</td>\n",
       "    </tr>\n",
       "    <tr>\n",
       "      <td>2017-10-01 00:01:09.251</td>\n",
       "      <td>1</td>\n",
       "      <td>firefox</td>\n",
       "      <td>13179</td>\n",
       "      <td>0x282235aae</td>\n",
       "      <td>R</td>\n",
       "      <td>minor</td>\n",
       "      <td>50</td>\n",
       "      <td>&lt;/lib/x86_64-linux-gnu/libglib-2.0.so.0.5400.1</td>\n",
       "      <td>16748032</td>\n",
       "      <td>660132</td>\n",
       "    </tr>\n",
       "    <tr>\n",
       "      <td>2017-10-01 00:01:09.251</td>\n",
       "      <td>1</td>\n",
       "      <td>firefox</td>\n",
       "      <td>13179</td>\n",
       "      <td>0x282235aae</td>\n",
       "      <td>R</td>\n",
       "      <td>minor</td>\n",
       "      <td>50</td>\n",
       "      <td>&lt;/lib/x86_64-linux-gnu/libpthread-2.26.so</td>\n",
       "      <td>16746496</td>\n",
       "      <td>483292</td>\n",
       "    </tr>\n",
       "    <tr>\n",
       "      <td>2017-10-01 00:01:09.251</td>\n",
       "      <td>1</td>\n",
       "      <td>firefox</td>\n",
       "      <td>13179</td>\n",
       "      <td>0x282235aae</td>\n",
       "      <td>R</td>\n",
       "      <td>minor</td>\n",
       "      <td>50</td>\n",
       "      <td>&lt;/usr/lib/x86_64-linux-gnu/libX11.so.6.3.0</td>\n",
       "      <td>16748800</td>\n",
       "      <td>108902</td>\n",
       "    </tr>\n",
       "    <tr>\n",
       "      <td>2017-10-01 00:01:09.251</td>\n",
       "      <td>1</td>\n",
       "      <td>firefox</td>\n",
       "      <td>13179</td>\n",
       "      <td>0x282235aae</td>\n",
       "      <td>R</td>\n",
       "      <td>minor</td>\n",
       "      <td>50</td>\n",
       "      <td>&lt;/lib/x86_64-linux-gnu/libc-2.26.so</td>\n",
       "      <td>16767232</td>\n",
       "      <td>7501</td>\n",
       "    </tr>\n",
       "  </tbody>\n",
       "</table>\n",
       "</div>"
      ],
      "text/plain": [
       "                         index proc_name    pid       pfaddr rw major_minor  \\\n",
       "time                                                                          \n",
       "2017-10-01 00:01:09.251      1   firefox  13179  0x282235aae  R       minor   \n",
       "2017-10-01 00:01:09.251      1   firefox  13179  0x282235aae  R       minor   \n",
       "2017-10-01 00:01:09.251      1   firefox  13179  0x282235aae  R       minor   \n",
       "2017-10-01 00:01:09.251      1   firefox  13179  0x282235aae  R       minor   \n",
       "2017-10-01 00:01:09.251      1   firefox  13179  0x282235aae  R       minor   \n",
       "\n",
       "                         resolve_time  \\\n",
       "time                                    \n",
       "2017-10-01 00:01:09.251            50   \n",
       "2017-10-01 00:01:09.251            50   \n",
       "2017-10-01 00:01:09.251            50   \n",
       "2017-10-01 00:01:09.251            50   \n",
       "2017-10-01 00:01:09.251            50   \n",
       "\n",
       "                                                                       lib  \\\n",
       "time                                                                         \n",
       "2017-10-01 00:01:09.251  </usr/lib/x86_64-linux-gnu/libcairo.so.2.11400.10   \n",
       "2017-10-01 00:01:09.251     </lib/x86_64-linux-gnu/libglib-2.0.so.0.5400.1   \n",
       "2017-10-01 00:01:09.251          </lib/x86_64-linux-gnu/libpthread-2.26.so   \n",
       "2017-10-01 00:01:09.251         </usr/lib/x86_64-linux-gnu/libX11.so.6.3.0   \n",
       "2017-10-01 00:01:09.251                </lib/x86_64-linux-gnu/libc-2.26.so   \n",
       "\n",
       "                             addr  offset  \n",
       "time                                       \n",
       "2017-10-01 00:01:09.251  16727808  686943  \n",
       "2017-10-01 00:01:09.251  16748032  660132  \n",
       "2017-10-01 00:01:09.251  16746496  483292  \n",
       "2017-10-01 00:01:09.251  16748800  108902  \n",
       "2017-10-01 00:01:09.251  16767232    7501  "
      ]
     },
     "execution_count": 12,
     "metadata": {},
     "output_type": "execute_result"
    }
   ],
   "source": [
    "df.head()"
   ]
  },
  {
   "cell_type": "code",
   "execution_count": 13,
   "metadata": {},
   "outputs": [
    {
     "data": {
      "text/plain": [
       "proc_name  index  major_minor\n",
       "auditd     6      minor          1\n",
       "           8      minor          1\n",
       "           11     minor          1\n",
       "           12     minor          1\n",
       "           15     minor          1\n",
       "Name: major_minor, dtype: int64"
      ]
     },
     "execution_count": 13,
     "metadata": {},
     "output_type": "execute_result"
    }
   ],
   "source": [
    "maj_min.head()"
   ]
  },
  {
   "cell_type": "code",
   "execution_count": 14,
   "metadata": {},
   "outputs": [
    {
     "data": {
      "text/plain": [
       "count    2.809731e+06\n",
       "mean     4.647097e+01\n",
       "std      6.724682e+01\n",
       "min      5.000000e+00\n",
       "25%      1.700000e+01\n",
       "50%      3.000000e+01\n",
       "75%      4.300000e+01\n",
       "max      4.000000e+02\n",
       "Name: resolve_time, dtype: float64"
      ]
     },
     "execution_count": 14,
     "metadata": {},
     "output_type": "execute_result"
    }
   ],
   "source": [
    "df.resolve_time.describe()"
   ]
  },
  {
   "cell_type": "code",
   "execution_count": null,
   "metadata": {},
   "outputs": [],
   "source": []
  }
 ],
 "metadata": {
  "kernelspec": {
   "display_name": "Python 3",
   "language": "python",
   "name": "python3"
  },
  "language_info": {
   "codemirror_mode": {
    "name": "ipython",
    "version": 3
   },
   "file_extension": ".py",
   "mimetype": "text/x-python",
   "name": "python",
   "nbconvert_exporter": "python",
   "pygments_lexer": "ipython3",
   "version": "3.7.4"
  }
 },
 "nbformat": 4,
 "nbformat_minor": 2
}
