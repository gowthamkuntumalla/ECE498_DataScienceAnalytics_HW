{
 "cells": [
  {
   "cell_type": "code",
   "execution_count": 1,
   "metadata": {},
   "outputs": [],
   "source": [
    "NetID = \"gowtham4\"\n",
    "Name = \"Gowtham Kuntumalla\"\n",
    "Reg_status = \"4 Credit, ECE 498\""
   ]
  },
  {
   "cell_type": "markdown",
   "metadata": {},
   "source": [
    "# Part A: Parsing"
   ]
  },
  {
   "cell_type": "code",
   "execution_count": 2,
   "metadata": {},
   "outputs": [],
   "source": [
    "# read in pf.log\n",
    "with open('pf.log') as f:\n",
    "    lines = f.readlines()\n",
    "\n",
    "# strip all lines of whitespace\n",
    "lines = [line.strip() for line in lines]\n"
   ]
  },
  {
   "cell_type": "code",
   "execution_count": 3,
   "metadata": {},
   "outputs": [],
   "source": [
    "# parse each line into your data structure\n",
    "# remember to convert addresses from strings to integers\n",
    "\n",
    "\"\"\"  Dictionary to hold a list of backtraces for each pagefault \n",
    "\n",
    "key = tuple (pagefault details) -- Tuple\n",
    "value = list (backtraces) -- 2D list\n",
    "\n",
    "\"\"\"\n",
    "\n",
    "parsed_lines = {}\n",
    "\n",
    "i = 0\n",
    "while(i<len(lines)):\n",
    "    line = lines[i]\n",
    "    if not (line[:2] == '</'):\n",
    "        \n",
    "        #parse main line\n",
    "        pf_details = tuple(line.split(':'))\n",
    "        i+=1        \n",
    "        pf_backtraces = []\n",
    "        \n",
    "        # parse backtraces        \n",
    "        while(i< len(lines) and lines[i][:2] == '</'):\n",
    "            library, off_adr = lines[i].split('+')\n",
    "            offset,address = off_adr.split('/')\n",
    "            pf_backtraces.append([library,str(int(address.rstrip('>'),16)),str(int(offset,16))])\n",
    "            i+=1\n",
    "             \n",
    "        parsed_lines[pf_details] = pf_backtraces\n",
    "        \n",
    "        "
   ]
  },
  {
   "cell_type": "code",
   "execution_count": 4,
   "metadata": {},
   "outputs": [
    {
     "name": "stdout",
     "output_type": "stream",
     "text": [
      "(('1506816069251', 'firefox', '13179', '0x282235aae', 'R', 'minor', '50'), [['</usr/lib/x86_64-linux-gnu/libcairo.so.2.11400.10', '16727808', '686943'], ['</lib/x86_64-linux-gnu/libglib-2.0.so.0.5400.1', '16748032', '660132'], ['</lib/x86_64-linux-gnu/libpthread-2.26.so', '16746496', '483292'], ['</usr/lib/x86_64-linux-gnu/libX11.so.6.3.0', '16748800', '108902'], ['</lib/x86_64-linux-gnu/libc-2.26.so', '16767232', '7501']])\n",
      "(('1506816074664', 'firefox', '13179', '0x10fb420b4', 'W', 'minor', '23'), [['</lib/x86_64-linux-gnu/libglib-2.0.so.0.5400.1', '16657664', '64606'], ['</usr/lib/x86_64-linux-gnu/libxcb.so.1.1.0', '16756992', '607425'], ['</lib/x86_64-linux-gnu/libpthread-2.26.so', '16759296', '459484'], ['</lib/x86_64-linux-gnu/libc-2.26.so', '16723456', '528024'], ['</usr/lib/x86_64-linux-gnu/libgdk-x11-2.0.so.0.2400.31', '16689664', '40592'], ['</usr/lib/x86_64-linux-gnu/libX11.so.6.3.0', '16659456', '385253'], ['</usr/lib/x86_64-linux-gnu/libcairo.so.2.11400.10', '16731648', '161826']])\n",
      "(('1506816094793', 'thunderbird', '5914', '0x3e9e414bb', 'W', 'minor', '11'), [['</usr/lib/x86_64-linux-gnu/libxcb.so.1.1.0', '16716800', '619231']])\n",
      "(('1506816166103', 'watchdog', '7518', '0x2a537754b', 'R', 'minor', '17'), [['</lib/x86_64-linux-gnu/libglib-2.0.so.0.5400.1', '16755200', '381200'], ['</usr/lib/x86_64-linux-gnu/libX11.so.6.3.0', '16756480', '490547'], ['</lib/x86_64-linux-gnu/libc-2.26.so', '16723456', '463886'], ['</usr/lib/x86_64-linux-gnu/libcairo.so.2.11400.10', '16720640', '79241'], ['</usr/lib/x86_64-linux-gnu/libgdk-x11-2.0.so.0.2400.31', '16706816', '124380'], ['</lib/x86_64-linux-gnu/libpthread-2.26.so', '16758272', '751319'], ['</usr/lib/x86_64-linux-gnu/libxcb.so.1.1.0', '16721152', '184707']])\n",
      "(('1506816180376', 'thunderbird', '5914', '0x1bf19b90a', 'W', 'minor', '12'), [['</usr/lib/x86_64-linux-gnu/libgdk-x11-2.0.so.0.2400.31', '16675328', '592929']])\n"
     ]
    }
   ],
   "source": [
    "#[print(v) for i, v in enumerate(parsed_lines.items()) if i < 5]    \n",
    "\n",
    "for i, v in enumerate(parsed_lines.items()):\n",
    "    if (i<5):\n",
    "        print(v)\n",
    "        \n",
    "    else:\n",
    "        break"
   ]
  },
  {
   "cell_type": "code",
   "execution_count": 5,
   "metadata": {},
   "outputs": [],
   "source": [
    "# write your data structure out to pf.csv\n",
    "# include an index column with unique indices for each page fault\n",
    "with open('pf.csv', 'w') as f:\n",
    "    # write header line\n",
    "    f.write('\\t'.join(['index', 'time', 'proc_name', 'pid', 'pfaddr', 'rw', 'major_minor', 'resolve_time', 'lib', 'addr', 'offset']))\n",
    "    f.write('\\n')\n",
    "    \n",
    "    for index, key in enumerate(parsed_lines):\n",
    "        \n",
    "        # we will append backtrace values later\n",
    "        csv_entry = [str(index+1)]+ list(key)       \n",
    "        backtraces = parsed_lines[key]\n",
    "        \n",
    "        # write all backtraces with a single key\n",
    "        for backt in backtraces:\n",
    "            \n",
    "            f.write('\\t'.join(csv_entry + backt))\n",
    "            f.write('\\n')\n",
    "        \n",
    "    \n",
    "    # write each page fault & backtrace entry\n",
    "    # hint: take a look at python's enumerate() function to generate indices\n",
    "    # Remember that indices should be unique to each page fault\n",
    "\n"
   ]
  },
  {
   "cell_type": "markdown",
   "metadata": {},
   "source": [
    "# Part B: Analysis"
   ]
  },
  {
   "cell_type": "code",
   "execution_count": 6,
   "metadata": {},
   "outputs": [],
   "source": [
    "import pandas as pd\n",
    "import numpy as np\n",
    "import matplotlib.mlab as mlab\n",
    "import matplotlib.pyplot as plt"
   ]
  },
  {
   "cell_type": "code",
   "execution_count": 7,
   "metadata": {},
   "outputs": [],
   "source": [
    "# relevant options when reading in pf.csv: sep, parse_dates\n",
    "df = pd.read_csv('pf.csv', sep = '\\t', parse_dates = [1])\n",
    "# set the index of the data frame\n",
    "df['time'] = pd.to_datetime(df['time'],unit='ms') # epoch time is in milliseconds\n",
    "df.set_index('time', inplace=True)"
   ]
  },
  {
   "cell_type": "code",
   "execution_count": 8,
   "metadata": {},
   "outputs": [
    {
     "name": "stdout",
     "output_type": "stream",
     "text": [
      "DatetimeIndex(['2017-10-01 00:01:09.251000', '2017-10-01 00:01:09.251000',\n",
      "               '2017-10-01 00:01:09.251000', '2017-10-01 00:01:09.251000',\n",
      "               '2017-10-01 00:01:09.251000', '2017-10-01 00:01:14.664000',\n",
      "               '2017-10-01 00:01:14.664000', '2017-10-01 00:01:14.664000',\n",
      "               '2017-10-01 00:01:14.664000', '2017-10-01 00:01:14.664000',\n",
      "               ...\n",
      "               '2018-01-07 18:56:37.930000', '2018-01-07 18:56:37.930000',\n",
      "               '2018-01-07 18:56:37.930000', '2018-01-07 18:56:37.930000',\n",
      "               '2018-01-07 18:56:37.930000', '2018-01-07 18:56:37.930000',\n",
      "               '2018-01-07 18:57:45.990000', '2018-01-07 18:59:50.839000',\n",
      "               '2018-01-07 18:59:50.839000', '2018-01-07 18:59:50.839000'],\n",
      "              dtype='datetime64[ns]', name='time', length=2809731, freq=None) \n",
      "\n",
      "\n",
      "Answer (B.a):  Time Range : 2017-10-01 00:01:09.251000 to 2018-01-07 18:59:50.839000\n"
     ]
    }
   ],
   "source": [
    "\n",
    "df.sort_index(inplace=True)\n",
    "print(df.index,'\\n\\n')\n",
    "print(\"Answer (B.a):  Time Range : {0} to {1}\".format(df.index[0],df.index[-1]))"
   ]
  },
  {
   "cell_type": "code",
   "execution_count": 9,
   "metadata": {},
   "outputs": [
    {
     "data": {
      "text/plain": [
       "Timedelta('98 days 18:58:41.588000')"
      ]
     },
     "execution_count": 9,
     "metadata": {},
     "output_type": "execute_result"
    }
   ],
   "source": [
    "df.index[-1] - df.index[0]"
   ]
  },
  {
   "cell_type": "code",
   "execution_count": 10,
   "metadata": {},
   "outputs": [
    {
     "name": "stdout",
     "output_type": "stream",
     "text": [
      "Answer (B.b) Unique Processes:\n",
      "['firefox' 'thunderbird' 'watchdog' 'auditd' 'subl' 'gitlab-runner' 'sshd'\n",
      " 'google-chrome' 'bash' 'tmux' 'xorg' 'htop']\n",
      "12\n",
      "Number of counts for each unique process for each\n"
     ]
    },
    {
     "data": {
      "text/plain": [
       "proc_name\n",
       "auditd           228982\n",
       "bash             229904\n",
       "firefox          233452\n",
       "gitlab-runner    218405\n",
       "google-chrome    238107\n",
       "htop             232215\n",
       "sshd             246903\n",
       "subl             245982\n",
       "thunderbird      237590\n",
       "tmux             219329\n",
       "watchdog         234938\n",
       "xorg             243924\n",
       "Name: pid, dtype: int64"
      ]
     },
     "execution_count": 10,
     "metadata": {},
     "output_type": "execute_result"
    }
   ],
   "source": [
    "print('Answer (B.b) Unique Processes:')\n",
    "uniq_proc = df.proc_name.unique()\n",
    "print(uniq_proc)\n",
    "print(len(uniq_proc))\n",
    "\n",
    "print('Number of counts for each unique process for each')\n",
    "df.groupby('proc_name').pid.count() # Also df.groupby('proc_name').pid.count().sum() == df['index'].count().sum() "
   ]
  },
  {
   "cell_type": "code",
   "execution_count": 11,
   "metadata": {
    "scrolled": true
   },
   "outputs": [
    {
     "name": "stdout",
     "output_type": "stream",
     "text": [
      "Answer (B.c): Major - Minor bar plots\n"
     ]
    },
    {
     "data": {
      "text/plain": [
       "Text(0, 0.5, 'Count (Number)')"
      ]
     },
     "execution_count": 11,
     "metadata": {},
     "output_type": "execute_result"
    },
    {
     "data": {
      "image/png": "[encoded data removed]",
      "text/plain": [
       "<Figure size 432x288 with 1 Axes>"
      ]
     },
     "metadata": {
      "needs_background": "light"
     },
     "output_type": "display_data"
    }
   ],
   "source": [
    "print('Answer (B.c): Major - Minor bar plots')\n",
    "\n",
    "maj_min = df.groupby(['proc_name','index','major_minor'])['major_minor'].nunique()#.reset_index().set_index('proc_name')\n",
    "num_errors_type = maj_min.groupby(['proc_name','major_minor']).count().unstack()\n",
    "num_errors_type.plot.bar()\n",
    "plt.xlabel('Process name')\n",
    "plt.ylabel('Count (Number)')"
   ]
  },
  {
   "cell_type": "code",
   "execution_count": 12,
   "metadata": {},
   "outputs": [
    {
     "name": "stdout",
     "output_type": "stream",
     "text": [
      "Answer (B.d): Histograms separated by type of pagefault\n",
      "\n",
      " aggregate results of minor page faults are:\n",
      "                    mean        std\n",
      "proc_name                          \n",
      "auditd         27.522918  13.291775\n",
      "bash           27.429991  13.285091\n",
      "firefox        27.586621  13.292283\n",
      "gitlab-runner  27.401360  13.241882\n",
      "google-chrome  27.486030  13.217610\n",
      "htop           27.359186  13.283209\n",
      "sshd           27.541563  13.300029\n",
      "subl           27.426151  13.238984\n",
      "thunderbird    27.458199  13.254275\n",
      "tmux           27.421387  13.280019\n",
      "watchdog       27.615395  13.272543\n",
      "xorg           27.528463  13.263153\n",
      "\n"
     ]
    },
    {
     "data": {
      "image/png": "[encoded data removed]",
      "text/plain": [
       "<Figure size 432x288 with 1 Axes>"
      ]
     },
     "metadata": {
      "needs_background": "light"
     },
     "output_type": "display_data"
    },
    {
     "name": "stdout",
     "output_type": "stream",
     "text": [
      "\n",
      " aggregate results of major page faults are:\n",
      "                     mean         std\n",
      "proc_name                            \n",
      "auditd         218.191273  105.493006\n",
      "bash           219.380514  105.209861\n",
      "firefox        219.960241  104.477581\n",
      "gitlab-runner  213.306051  105.639431\n",
      "google-chrome  218.813443  104.972038\n",
      "htop           219.088798  104.744666\n",
      "sshd           216.805671  105.636435\n",
      "subl           215.073090  106.021568\n",
      "thunderbird    219.667928  106.878117\n",
      "tmux           219.742614  105.805424\n",
      "watchdog       215.778328  105.352504\n",
      "xorg           216.892856  105.984679\n",
      "\n"
     ]
    },
    {
     "data": {
      "image/png": "[encoded data removed]",
      "text/plain": [
       "<Figure size 432x288 with 1 Axes>"
      ]
     },
     "metadata": {
      "needs_background": "light"
     },
     "output_type": "display_data"
    }
   ],
   "source": [
    "print('Answer (B.d): Histograms separated by type of pagefault')\n",
    "#d = df.groupby(['proc_name','index','major_minor']).nunique()\n",
    "\n",
    "for typ in ['minor','major']:\n",
    "    \n",
    "    df_i = df[df['major_minor'] == typ]\n",
    "    print('\\n aggregate results of {0} page faults are:'.format(typ))\n",
    "    print(df_i.groupby('proc_name')['resolve_time'].agg(['mean','std']))\n",
    "    print()\n",
    "    plt.figure()\n",
    "    df_i['resolve_time'].plot(kind = 'hist',bins = 50)\n",
    "    plt.xlabel('Resolve time (units as in logs)')\n",
    "    plt.ylabel('PDF - Frquency')\n",
    "    t = typ + 'Page Faults histogram'\n",
    "    plt.title(t)\n",
    "    plt.show()\n",
    "    "
   ]
  },
  {
   "cell_type": "markdown",
   "metadata": {},
   "source": [
    "# Part C: Making Predictions"
   ]
  },
  {
   "cell_type": "code",
   "execution_count": 13,
   "metadata": {},
   "outputs": [
    {
     "name": "stdout",
     "output_type": "stream",
     "text": [
      "C.a) priors are :\n",
      "\n",
      "\n"
     ]
    },
    {
     "data": {
      "text/plain": [
       "{'firefox': 0.08294107937664348,\n",
       " 'thunderbird': 0.08451199244140381,\n",
       " 'watchdog': 0.08372369005202226,\n",
       " 'auditd': 0.08137016631188317,\n",
       " 'subl': 0.08786014320352431,\n",
       " 'gitlab-runner': 0.07761078921306362,\n",
       " 'sshd': 0.08782456999100709,\n",
       " 'google-chrome': 0.08480084692704361,\n",
       " 'bash': 0.08171451500904983,\n",
       " 'tmux': 0.0777786947761449,\n",
       " 'xorg': 0.08690108939406013,\n",
       " 'htop': 0.0829624233041538}"
      ]
     },
     "execution_count": 13,
     "metadata": {},
     "output_type": "execute_result"
    }
   ],
   "source": [
    "# c.a) priors = P(process_i)\n",
    "\n",
    "df_prior = df.groupby(['proc_name','index']).count()\n",
    "proc_priors = {}\n",
    "for proc in uniq_proc:\n",
    "    proc_priors[proc] = df_prior.loc[proc].major_minor.count()/df_prior.major_minor.count()\n",
    "\n",
    "print(\"C.a) priors are :\\n\\n\")\n",
    "proc_priors\n",
    "## sanity check for checking if sum of all priors is 1\n",
    "# sums = 0\n",
    "# for v in proc_priors.values():\n",
    "#     sums+=v\n",
    "# print(sums) # =1.0"
   ]
  },
  {
   "cell_type": "code",
   "execution_count": 14,
   "metadata": {},
   "outputs": [
    {
     "name": "stdout",
     "output_type": "stream",
     "text": [
      "Process that is likely to occur:  subl 0.0921\n"
     ]
    }
   ],
   "source": [
    "# c.b) major minor pagefaults \n",
    "\n",
    "\"\"\" 1. find p(page_fault = major/proc = ...) from data\n",
    "2. apply naive bayes rule\n",
    "3. MAP rule to get process with maximum probability = p(proc = .../page_fault = major)\n",
    "\"\"\" \n",
    "\n",
    "df_major_minor = df.groupby(['proc_name','index','major_minor'])['major_minor'].count().unstack()\n",
    "\n",
    "# number of page faults of one type\n",
    "major_faults = df_major_minor.major.dropna().count()\n",
    "minor_faults = df_major_minor.minor.dropna().count()\n",
    "\n",
    "#p(page_fault = major/proc = ...)\n",
    "p_major_proc =  {}\n",
    "p_minor_proc =  {}\n",
    "\n",
    "# step1 \n",
    "\n",
    "for proc in uniq_proc:\n",
    "    p_major_proc[proc] = df_major_minor.loc[proc].major.dropna().count()/major_faults\n",
    "    p_minor_proc[proc] = df_major_minor.loc[proc].minor.dropna().count()/minor_faults\n",
    "\n",
    "# step2    \n",
    "\n",
    "p_proc_major = {}\n",
    "denom_major = 0\n",
    "for proc in uniq_proc:\n",
    "    denom_major += p_major_proc[proc]*proc_priors[proc]\n",
    "\n",
    "for proc in uniq_proc:\n",
    "    p_proc_major[proc] = p_major_proc[proc]*proc_priors[proc]/denom_major\n",
    "    \n",
    "    \n",
    "# step3\n",
    "\n",
    "\n",
    "p_proc_major_list = [(value, key) for key, value in p_proc_major.items()]\n",
    "max_major_proc = max(p_proc_major_list)[1]\n",
    "print(\"Process that is likely to occur: \", max_major_proc,round(p_proc_major[max_major_proc],4))\n",
    "    \n",
    "    \n",
    "    "
   ]
  },
  {
   "cell_type": "code",
   "execution_count": 15,
   "metadata": {},
   "outputs": [
    {
     "name": "stdout",
     "output_type": "stream",
     "text": [
      "Process that is likely to occur:  subl 0.0923\n"
     ]
    }
   ],
   "source": [
    "# c.c) read access pagefaults \n",
    "\n",
    "\"\"\" 1. find p(page_fault = major/proc = ...) from data\n",
    "2. apply naive bayes rule\n",
    "3. MAP rule to get process with maximum probability = p(proc = .../page_fault = major)\n",
    "\"\"\" \n",
    "\n",
    "df_read_write = df.groupby(['proc_name','index','rw'])['rw'].count().unstack()\n",
    "\n",
    "# number of page faults of one type\n",
    "read_faults = df_read_write.R.dropna().count()\n",
    "write_faults = df_read_write.W.dropna().count()\n",
    "\n",
    "#p(page_fault = major/proc = ...)\n",
    "p_read_proc =  {}\n",
    "p_write_proc =  {}\n",
    "\n",
    "# step1 \n",
    "\n",
    "for proc in uniq_proc:\n",
    "    p_read_proc[proc] = df_read_write.loc[proc].R.dropna().count()/read_faults\n",
    "    p_write_proc[proc] = df_read_write.loc[proc].W.dropna().count()/write_faults\n",
    "\n",
    "# step2    \n",
    "\n",
    "p_proc_read = {}\n",
    "denom_read = 0\n",
    "for proc in uniq_proc:\n",
    "    denom_read += p_read_proc[proc]*proc_priors[proc]\n",
    "\n",
    "for proc in uniq_proc:\n",
    "    p_proc_read[proc] = p_read_proc[proc]*proc_priors[proc]/denom_major\n",
    "    \n",
    "    \n",
    "# step3\n",
    "\n",
    "\n",
    "p_proc_read_list = [(value, key) for key, value in p_proc_read.items()]\n",
    "max_read_proc = max(p_proc_read_list)[1]\n",
    "print(\"Process that is likely to occur: \", max_read_proc,round(p_proc_read[max_read_proc],4))\n",
    "    \n"
   ]
  },
  {
   "cell_type": "code",
   "execution_count": 16,
   "metadata": {},
   "outputs": [
    {
     "name": "stdout",
     "output_type": "stream",
     "text": [
      "We would use Naive Bayes Classifier for classifying. It is a decent first estimateconsidering the fact: independence of read/write operations and type of fault (major/minor)\n"
     ]
    }
   ],
   "source": [
    "# c.d) type of classifier\n",
    "\n",
    "print(\"We would use Naive Bayes Classifier for classifying. It is a decent first estimate\\\n",
    "considering the fact: independence of read/write operations and type of fault (major/minor)\")\n"
   ]
  },
  {
   "cell_type": "code",
   "execution_count": null,
   "metadata": {},
   "outputs": [],
   "source": []
  }
 ],
 "metadata": {
  "kernelspec": {
   "display_name": "Python 3",
   "language": "python",
   "name": "python3"
  },
  "language_info": {
   "codemirror_mode": {
    "name": "ipython",
    "version": 3
   },
   "file_extension": ".py",
   "mimetype": "text/x-python",
   "name": "python",
   "nbconvert_exporter": "python",
   "pygments_lexer": "ipython3",
   "version": "3.7.4"
  }
 },
 "nbformat": 4,
 "nbformat_minor": 2
}
