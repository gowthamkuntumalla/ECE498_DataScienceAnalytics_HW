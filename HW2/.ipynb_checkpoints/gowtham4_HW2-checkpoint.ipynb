{
 "cells": [
  {
   "cell_type": "code",
   "execution_count": 1,
   "metadata": {},
   "outputs": [],
   "source": [
    "netid = 'gowtham4'\n",
    "\"\"\"Used for some problems\"\"\"\n",
    "import math"
   ]
  },
  {
   "cell_type": "code",
   "execution_count": 2,
   "metadata": {},
   "outputs": [
    {
     "name": "stdout",
     "output_type": "stream",
     "text": [
      "0.076 0.924\n",
      "0.076 0.924\n",
      "0.029 0.971\n"
     ]
    }
   ],
   "source": [
    "\"\"\"Question 1 Task 1\"\"\"\n",
    "def posterior(x):\n",
    "    xa = -0.5* (x-3)**2\n",
    "    xb = -0.5* (x-4)**2\n",
    "    ans = (math.e**(xa)*1/math.sqrt(2*math.pi))/((math.e**(xa)*1/math.sqrt(2*math.pi)+ math.e**(xb)*1/math.sqrt(2*math.pi)))\n",
    "    print(round(ans,3), round(1- ans,3))\n",
    "    return round(ans,3), round(1- ans,3)\n",
    "\n",
    "\n",
    "weighted = []\n",
    "denom = []\n",
    "\n",
    "for x in [6,6,7]:\n",
    "    b,a = posterior(x)\n",
    "    weighted.append(a*x)    \n",
    "    denom.append(a)\n",
    "\n",
    "new_mean = sum(weighted)/sum(denom)\n",
    "\n",
    "weighted_diff_sq = []\n",
    "\n",
    "for x in [6,6,7]:\n",
    "    weighted_diff_sq.append(a*(x-new_mean)**2)\n",
    "    \n",
    "new_var = sum(weighted_diff_sq)/sum(denom)\n",
    "    \n",
    "    "
   ]
  },
  {
   "cell_type": "code",
   "execution_count": 3,
   "metadata": {},
   "outputs": [
    {
     "name": "stdout",
     "output_type": "stream",
     "text": [
      "(0.9820137900379085, 0.01798620996209155)\n",
      "(0.9933071490757152, 0.006692850924284843)\n",
      "(0.8807970779778823, 0.11920292202211769)\n",
      "(0.002472623156634775, 0.9975273768433652)\n",
      "(0.006692850924284858, 0.9933071490757152)\n",
      "(0.0003353501304664782, 0.9996646498695335)\n"
     ]
    }
   ],
   "source": [
    "\"\"\"Question 1 Task 2\"\"\"\n",
    "def posterior_2d(x,y):\n",
    "    xa = -0.5* ((x-2)**2+(y-5)**2)\n",
    "    xb = -0.5* ((x-5)**2+(y-4)**2)\n",
    "    ans = math.e**(xa)/(2*math.pi)/(math.e**(xa)/(2*math.pi)+ math.e**(xb)/(2*math.pi))  \n",
    "    return ans, 1-ans\n",
    "\n",
    "points = [[1,1],[1,2],[2,2],[6,6],[6,7],[7,7]]\n",
    "for x,y in points:\n",
    "    print(posterior_2d(x,y))"
   ]
  },
  {
   "cell_type": "code",
   "execution_count": 13,
   "metadata": {},
   "outputs": [],
   "source": [
    "weighted = []\n",
    "denom = []\n",
    "\n",
    "\n",
    "for x,y in points[:3]:\n",
    "    a,b = posterior_2d(x,y)\n",
    "    if weighted.append(a*)    \n",
    "    denom.append(a)\n",
    "\n",
    "new_mean = sum(weighted)/sum(denom)\n"
   ]
  },
  {
   "cell_type": "code",
   "execution_count": null,
   "metadata": {},
   "outputs": [],
   "source": []
  }
 ],
 "metadata": {
  "kernelspec": {
   "display_name": "Python 3",
   "language": "python",
   "name": "python3"
  },
  "language_info": {
   "codemirror_mode": {
    "name": "ipython",
    "version": 3
   },
   "file_extension": ".py",
   "mimetype": "text/x-python",
   "name": "python",
   "nbconvert_exporter": "python",
   "pygments_lexer": "ipython3",
   "version": "3.7.4"
  }
 },
 "nbformat": 4,
 "nbformat_minor": 2
}
