{
 "cells": [
  {
   "cell_type": "code",
   "execution_count": 1,
   "metadata": {},
   "outputs": [],
   "source": [
    "netid = 'gowtham4'\n",
    "\"\"\"Used for some problems\"\"\"\n",
    "import math"
   ]
  },
  {
   "cell_type": "code",
   "execution_count": 2,
   "metadata": {},
   "outputs": [
    {
     "name": "stdout",
     "output_type": "stream",
     "text": [
      "0.924 0.076\n",
      "0.924 0.076\n",
      "0.818 0.182\n",
      "0.076 0.924\n",
      "0.076 0.924\n",
      "0.029 0.971\n",
      "0.924 0.076\n",
      "0.924 0.076\n",
      "0.818 0.182\n",
      "0.076 0.924\n",
      "0.076 0.924\n",
      "0.029 0.971\n"
     ]
    }
   ],
   "source": [
    "\"\"\"Question 1 Task 1\"\"\"\n",
    "def posterior(x):\n",
    "    xa = -0.5* (x-3)**2\n",
    "    xb = -0.5* (x-4)**2\n",
    "    ans = (math.e**(xa)*1/math.sqrt(2*math.pi))/((math.e**(xa)*1/math.sqrt(2*math.pi)+ math.e**(xb)*1/math.sqrt(2*math.pi)))\n",
    "    print(round(ans,3), round(1- ans,3))\n",
    "    return round(ans,3), round(1- ans,3)\n",
    "\n",
    "\n",
    "weighted = []\n",
    "denom = []\n",
    "\n",
    "for x in [1,1,2,6,6,7]:\n",
    "    a,b = posterior(x)\n",
    "    weighted.append(a*x)    \n",
    "    denom.append(a)\n",
    "\n",
    "new_mean = sum(weighted)/sum(denom)\n",
    "\n",
    "weighted_diff_sq = []\n",
    "\n",
    "for x in [1,1,2,6,6,7]:\n",
    "    a,b = posterior(x)\n",
    "    weighted_diff_sq.append(a*(x-new_mean)**2)\n",
    "    \n",
    "new_var = sum(weighted_diff_sq)/sum(denom)\n",
    "    \n",
    "    "
   ]
  },
  {
   "cell_type": "code",
   "execution_count": 3,
   "metadata": {},
   "outputs": [
    {
     "data": {
      "text/plain": [
       "(1.6153846153846154, 1.6100618734970689)"
      ]
     },
     "execution_count": 3,
     "metadata": {},
     "output_type": "execute_result"
    }
   ],
   "source": [
    "new_mean,new_var"
   ]
  },
  {
   "cell_type": "code",
   "execution_count": 4,
   "metadata": {},
   "outputs": [
    {
     "data": {
      "text/plain": [
       "(1.6153846153846154, 1.6100618734970689)"
      ]
     },
     "execution_count": 4,
     "metadata": {},
     "output_type": "execute_result"
    }
   ],
   "source": [
    "new_mean,new_var"
   ]
  },
  {
   "cell_type": "code",
   "execution_count": 5,
   "metadata": {},
   "outputs": [
    {
     "name": "stdout",
     "output_type": "stream",
     "text": [
      "3.238299669088985e-05 ** 5.931152735254125e-07\n",
      "(0.9820137900379085, 0.01798620996209155)\n",
      "0.0010723775711956548 ** 7.225623237724326e-06\n",
      "(0.9933071490757152, 0.006692850924284843)\n",
      "0.001768051711852017 ** 0.0002392797792004707\n",
      "(0.8807970779778823, 0.11920292202211769)\n",
      "3.238299669088985e-05 ** 0.013064233284684921\n",
      "(0.002472623156634775, 0.9975273768433652)\n",
      "7.225623237724326e-06 ** 0.0010723775711956548\n",
      "(0.006692850924284858, 0.9933071490757152)\n",
      "8.026942353452272e-08 ** 0.0002392797792004707\n",
      "(0.0003353501304664782, 0.9996646498695335)\n"
     ]
    }
   ],
   "source": [
    "\"\"\"Question 1 Task 2\"\"\"\n",
    "def posterior_2d(x,y):\n",
    "    xa = -0.5* ((x-2)**2+(y-5)**2)\n",
    "    xb = -0.5* ((x-5)**2+(y-4)**2)\n",
    "    ans = math.e**(xa)/(2*math.pi)/(math.e**(xa)/(2*math.pi)+ math.e**(xb)/(2*math.pi))  \n",
    "    print(math.e**(xa)/(2*math.pi),'**',math.e**(xb)/(2*math.pi))\n",
    "    return ans, 1-ans\n",
    "\n",
    "points = [[1,1],[1,2],[2,2],[6,6],[6,7],[7,7]]\n",
    "for x,y in points:\n",
    "    print(posterior_2d(x,y))"
   ]
  },
  {
   "cell_type": "code",
   "execution_count": 6,
   "metadata": {},
   "outputs": [
    {
     "name": "stdout",
     "output_type": "stream",
     "text": [
      "3.238299669088985e-05 ** 5.931152735254125e-07\n",
      "0.0010723775711956548 ** 7.225623237724326e-06\n",
      "0.001768051711852017 ** 0.0002392797792004707\n",
      "3.238299669088985e-05 ** 0.013064233284684921\n",
      "7.225623237724326e-06 ** 0.0010723775711956548\n",
      "8.026942353452272e-08 ** 0.0002392797792004707\n",
      "6.127443867584766\n"
     ]
    }
   ],
   "source": [
    "weighted = []\n",
    "denom = []\n",
    "\n",
    "\n",
    "for x,y in points:\n",
    "    b,a = posterior_2d(x,y)\n",
    "    weighted.append(a*x)    \n",
    "    denom.append(a)\n",
    "\n",
    "new_mean = sum(weighted)/sum(denom)\n",
    "print(new_mean)"
   ]
  },
  {
   "cell_type": "code",
   "execution_count": 7,
   "metadata": {},
   "outputs": [
    {
     "name": "stdout",
     "output_type": "stream",
     "text": [
      "3.238299669088985e-05 ** 5.931152735254125e-07\n",
      "0.0010723775711956548 ** 7.225623237724326e-06\n",
      "0.001768051711852017 ** 0.0002392797792004707\n",
      "3.238299669088985e-05 ** 0.013064233284684921\n",
      "7.225623237724326e-06 ** 0.0010723775711956548\n",
      "8.026942353452272e-08 ** 0.0002392797792004707\n"
     ]
    }
   ],
   "source": [
    "weighted_diff_sq = []\n",
    "\n",
    "for x,y in points:\n",
    "    b,a = posterior_2d(x,y)\n",
    "    weighted_diff_sq.append(a*(x-6.12)*(y-6.44))\n",
    "    \n",
    "new_var = sum(weighted_diff_sq)/sum(denom)\n",
    "    "
   ]
  },
  {
   "cell_type": "code",
   "execution_count": 8,
   "metadata": {},
   "outputs": [
    {
     "data": {
      "text/plain": [
       "1.0567389666807099"
      ]
     },
     "execution_count": 8,
     "metadata": {},
     "output_type": "execute_result"
    }
   ],
   "source": [
    "new_var"
   ]
  },
  {
   "cell_type": "code",
   "execution_count": null,
   "metadata": {},
   "outputs": [],
   "source": []
  }
 ],
 "metadata": {
  "kernelspec": {
   "display_name": "Python 3",
   "language": "python",
   "name": "python3"
  },
  "language_info": {
   "codemirror_mode": {
    "name": "ipython",
    "version": 3
   },
   "file_extension": ".py",
   "mimetype": "text/x-python",
   "name": "python",
   "nbconvert_exporter": "python",
   "pygments_lexer": "ipython3",
   "version": "3.7.4"
  }
 },
 "nbformat": 4,
 "nbformat_minor": 2
}
